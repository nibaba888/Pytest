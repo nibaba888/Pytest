{
 "cells": [
  {
   "cell_type": "code",
   "execution_count": 3,
   "metadata": {},
   "outputs": [
    {
     "name": "stdout",
     "output_type": "stream",
     "text": [
      "['wamh', 'xioam', 'xws']\n",
      "3\n",
      "xioam\n"
     ]
    }
   ],
   "source": [
    "#创建列表\n",
    "cast=['wamh','xioam','xws']\n",
    "print(cast)\n",
    "print(len(cast))\n",
    "print(cast[1])"
   ]
  },
  {
   "cell_type": "code",
   "execution_count": 6,
   "metadata": {},
   "outputs": [
    {
     "name": "stdout",
     "output_type": "stream",
     "text": [
      "['wamh', 'xioam', 'xws']\n",
      "['wamh', 'xioam', 'xws', 'xaioming']\n"
     ]
    }
   ],
   "source": [
    "#append() 在列表末尾增加一个数据行\n",
    "#cast.append('xiaoming')\n",
    "cast=['wamh','xioam','xws']\n",
    "print(cast)\n",
    "cast.append('xaioming')\n",
    "print(cast)"
   ]
  },
  {
   "cell_type": "code",
   "execution_count": 8,
   "metadata": {},
   "outputs": [
    {
     "name": "stdout",
     "output_type": "stream",
     "text": [
      "['wamh', 'xioam', 'xws']\n",
      "['wamh', 'xioam']\n"
     ]
    }
   ],
   "source": [
    "#pop() 在列表末尾删除一个数据行\n",
    "cast=['wamh','xioam','xws']\n",
    "print(cast)\n",
    "cast.pop()\n",
    "print(cast)"
   ]
  },
  {
   "cell_type": "code",
   "execution_count": 10,
   "metadata": {},
   "outputs": [
    {
     "name": "stdout",
     "output_type": "stream",
     "text": [
      "['wamh', 'xioam', 'xws']\n",
      "['wamh', 'xioam', 'xws', 1, 2]\n"
     ]
    }
   ],
   "source": [
    "#extend() 在列表末尾增加一个数据项集合\n",
    "cast=['wamh','xioam','xws']\n",
    "print(cast)\n",
    "cast.extend([1,2])\n",
    "print(cast)"
   ]
  },
  {
   "cell_type": "code",
   "execution_count": 12,
   "metadata": {},
   "outputs": [
    {
     "name": "stdout",
     "output_type": "stream",
     "text": [
      "['wamh', 'xioam', 'xws']\n",
      "['xioam', 'xws']\n"
     ]
    }
   ],
   "source": [
    "#remove() 删除列表中一个指定的数据项\n",
    "cast=['wamh','xioam','xws']\n",
    "print(cast)\n",
    "cast.remove('wamh')\n",
    "print(cast)"
   ]
  },
  {
   "cell_type": "code",
   "execution_count": 13,
   "metadata": {},
   "outputs": [
    {
     "name": "stdout",
     "output_type": "stream",
     "text": [
      "['wamh', 'xioam', 'xws']\n",
      "['wamh', 'xioam', 22, 'xws']\n"
     ]
    }
   ],
   "source": [
    "#insert() 增加列表中一个指定位置的数据项\n",
    "cast=['wamh','xioam','xws']\n",
    "print(cast)\n",
    "cast.insert(2,22)\n",
    "print(cast)"
   ]
  },
  {
   "cell_type": "code",
   "execution_count": 30,
   "metadata": {},
   "outputs": [
    {
     "name": "stdout",
     "output_type": "stream",
     "text": [
      "['yi', 100, 'er', 200, 'san', 300, 'si', 400, 'wu', 500]\n"
     ]
    }
   ],
   "source": [
    "#列表练习\n",
    "movies =['yi','er','san','si','wu']\n",
    "movies.insert(1,100)\n",
    "movies.insert(3,200)\n",
    "movies.insert(5,300)\n",
    "movies.insert(7,400)\n",
    "movies.insert(9,500)\n",
    "print(movies)\n",
    "    "
   ]
  },
  {
   "cell_type": "code",
   "execution_count": 31,
   "metadata": {},
   "outputs": [
    {
     "name": "stdout",
     "output_type": "stream",
     "text": [
      "['yi', 100, 'er', 200, 'san', 300, 'si', 400, 'wu', 500]\n"
     ]
    }
   ],
   "source": [
    "#列表练习2\n",
    "movies =['yi', 100, 'er', 200, 'san', 300, 'si', 400, 'wu', 500]\n",
    "print(movies)"
   ]
  },
  {
   "cell_type": "code",
   "execution_count": 46,
   "metadata": {
    "scrolled": true
   },
   "outputs": [
    {
     "name": "stdout",
     "output_type": "stream",
     "text": [
      "100\n",
      "['A', 'B', 'C', ['a', 'b', 'c']]\n",
      "B\n",
      "['a', 'b', 'c']\n",
      "b\n",
      "yi,100,er,200,san,300,['A', 'B', 'C', ['a', 'b', 'c']],"
     ]
    }
   ],
   "source": [
    "#循环练习1\n",
    "movies =['yi', 100, 'er', 200, 'san', 300, ['A','B','C',['a','b','c']]]\n",
    "print(movies[1])\n",
    "print(movies[6])\n",
    "print(movies[6][1])\n",
    "print(movies[6][3])\n",
    "print(movies[6][3][1])\n",
    "for i in movies:\n",
    "    print(i,end = ',')\n"
   ]
  },
  {
   "cell_type": "code",
   "execution_count": 58,
   "metadata": {},
   "outputs": [
    {
     "name": "stdout",
     "output_type": "stream",
     "text": [
      "yi 100 er 200 san 300 A B C a  b  c  "
     ]
    },
    {
     "data": {
      "text/plain": [
       "True"
      ]
     },
     "execution_count": 58,
     "metadata": {},
     "output_type": "execute_result"
    }
   ],
   "source": [
    "#循环练习2\n",
    "#isinstance() 判断某个的特定的变量是否为指定的数据类型\n",
    "movies =['yi', 100, 'er', 200, 'san', 300, ['A','B','C',['a','b','c']]]\n",
    "for i in movies:\n",
    "    if isinstance(i,list):\n",
    "        for ii in i:\n",
    "            if isinstance(ii,list):\n",
    "                \n",
    "                for iii in ii:\n",
    "                    print(iii,end='  ')\n",
    "            else:\n",
    "                print(ii,end=' ')\n",
    "            \n",
    "    else:\n",
    "        print(i, end=' ')\n",
    "isinstance(ii,list)"
   ]
  },
  {
   "cell_type": "code",
   "execution_count": 63,
   "metadata": {},
   "outputs": [
    {
     "name": "stdout",
     "output_type": "stream",
     "text": [
      "yi 100 er 200 san 300 A B C a b 22 33 c "
     ]
    }
   ],
   "source": [
    "#函数练习\n",
    "def print_lol(the_list):\n",
    "    for i in the_list:\n",
    "        if isinstance(i,list):\n",
    "            print_lol(i)\n",
    "        else:\n",
    "            print(i,end=' ')\n",
    "movies =['yi', 100, 'er', 200, 'san', 300, ['A','B','C',['a','b', [22,33],'c']]]\n",
    "print_lol(movies)"
   ]
  }
 ],
 "metadata": {
  "kernelspec": {
   "display_name": "Python 3",
   "language": "python",
   "name": "python3"
  },
  "language_info": {
   "codemirror_mode": {
    "name": "ipython",
    "version": 3
   },
   "file_extension": ".py",
   "mimetype": "text/x-python",
   "name": "python",
   "nbconvert_exporter": "python",
   "pygments_lexer": "ipython3",
   "version": "3.7.0"
  }
 },
 "nbformat": 4,
 "nbformat_minor": 2
}
