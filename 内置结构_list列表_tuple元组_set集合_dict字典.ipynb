{
 "cells": [
  {
   "cell_type": "markdown",
   "metadata": {},
   "source": [
    "# list() 列表\n",
    " - 分片\n",
    "     - 写法: l[:]\n",
    "     - 分片操作是生成一个新的列表\n",
    "     - 取值范围：包含左边不包含右边，如果为空，左边表示0，右边表示到最后一>个数据\n",
    "     - 反向调用，下标从-1开始，左下标要小于右下标。 如果左下标大于右下标，>步长数应为负数\n",
    "    \n",
    " "
   ]
  },
  {
   "cell_type": "markdown",
   "metadata": {},
   "source": [
    "# 关于列表的函数\n",
    "- max()\n",
    "- list()\n",
    "- sort() //将列表元素按字母顺序排列。永久修改。\n",
    "- sorted()//将列表元素按字母顺序排列。临时修改。\n",
    "- reverse()//按倒序打印列表\n",
    "- len()// 确定列表长度\n",
    "- count() //查找列表中指定值或元素的个数"
   ]
  },
  {
   "cell_type": "code",
   "execution_count": 18,
   "metadata": {},
   "outputs": [
    {
     "name": "stdout",
     "output_type": "stream",
     "text": [
      "[2, 34]\n",
      "[1, 2, 34]\n",
      "[34, 4, 5, 331.4, 3, 131]\n",
      "[34, 4, 5, 331.4, 3, 131]\n",
      "[34, 5, 3]\n",
      "--------------------\n",
      "[34, 4, 5, 331.4, 3, 131]\n",
      "[34, 5, 3]\n",
      "[5, 331.4, 3, 131]\n",
      "[5, 34, 1]\n",
      "140634682350280\n",
      "140634682403848\n"
     ]
    }
   ],
   "source": [
    "#分片操作\n",
    "l = [1,2,34,4,5,331.4,3,131]\n",
    "print(l[1:3])\n",
    "print(l[:3])\n",
    "print(l[2:])\n",
    "print(l[2::1])\n",
    "print(l[2::2])\n",
    "#控制增长幅度，默认为1\n",
    "print('-'*20)\n",
    "print(l[2::1])\n",
    "print(l[2::2])\n",
    "#反向调用\n",
    "print(l[-4:])\n",
    "print(l[-4::-2])\n",
    "print(id(l))\n",
    "l1=l[-4::-2]\n",
    "print(id(l1))\n"
   ]
  },
  {
   "cell_type": "code",
   "execution_count": 3,
   "metadata": {},
   "outputs": [
    {
     "name": "stdout",
     "output_type": "stream",
     "text": [
      "['wamh', 'xioam', 'xws']\n",
      "3\n",
      "xioam\n"
     ]
    }
   ],
   "source": [
    "#创建列表\n",
    "cast=['wamh','xioam','xws']\n",
    "print(cast)\n",
    "print(len(cast))\n",
    "print(cast[1])"
   ]
  },
  {
   "cell_type": "code",
   "execution_count": 6,
   "metadata": {},
   "outputs": [
    {
     "name": "stdout",
     "output_type": "stream",
     "text": [
      "['wamh', 'xioam', 'xws']\n",
      "['wamh', 'xioam', 'xws', 'xaioming']\n"
     ]
    }
   ],
   "source": [
    "#append() 在列表末尾增加一个数据行\n",
    "#cast.append('xiaoming')\n",
    "cast=['wamh','xioam','xws']\n",
    "print(cast)\n",
    "cast.append('xaioming')\n",
    "print(cast)"
   ]
  },
  {
   "cell_type": "code",
   "execution_count": 1,
   "metadata": {},
   "outputs": [
    {
     "name": "stdout",
     "output_type": "stream",
     "text": [
      "['wamh', 'xioam', 'xws']\n",
      "['wamh', 'xioam']\n",
      "xws\n"
     ]
    }
   ],
   "source": [
    "#pop() 在列表末尾删除一个数据行\n",
    "cast=['wamh','xioam','xws']\n",
    "print(cast)\n",
    "a = cast.pop()\n",
    "print(cast)\n",
    "print(a)"
   ]
  },
  {
   "cell_type": "code",
   "execution_count": 10,
   "metadata": {},
   "outputs": [
    {
     "name": "stdout",
     "output_type": "stream",
     "text": [
      "['wamh', 'xioam', 'xws']\n",
      "['wamh', 'xioam', 'xws', 1, 2]\n"
     ]
    }
   ],
   "source": [
    "#extend() 在列表末尾增加一个数据项集合\n",
    "cast=['wamh','xioam','xws']\n",
    "print(cast)\n",
    "cast.extend([1,2])\n",
    "print(cast)"
   ]
  },
  {
   "cell_type": "code",
   "execution_count": 12,
   "metadata": {},
   "outputs": [
    {
     "name": "stdout",
     "output_type": "stream",
     "text": [
      "['wamh', 'xioam', 'xws']\n",
      "['xioam', 'xws']\n"
     ]
    }
   ],
   "source": [
    "#remove() 删除列表中一个指定的数据项\n",
    "#进行删除操作之前应先进行判断\n",
    "# if x in list:\n",
    "# print(x)\n",
    "cast=['wamh','xioam','xws']\n",
    "print(cast)\n",
    "cast.remove('wamh')\n",
    "print(cast)"
   ]
  },
  {
   "cell_type": "code",
   "execution_count": 2,
   "metadata": {},
   "outputs": [
    {
     "name": "stdout",
     "output_type": "stream",
     "text": [
      "['wamh', 'xioam', 'xws']\n",
      "['wamh', 'xioam', 22, 'xws']\n"
     ]
    }
   ],
   "source": [
    "#insert() 增加列表中一个指定位置的数据项\n",
    "cast=['wamh','xioam','xws']\n",
    "print(cast)\n",
    "cast.insert(2,22)\n",
    "print(cast)"
   ]
  },
  {
   "cell_type": "code",
   "execution_count": 4,
   "metadata": {},
   "outputs": [
    {
     "name": "stdout",
     "output_type": "stream",
     "text": [
      "140541462870152\n",
      "[1, 2, 3]\n",
      "[]\n",
      "140541462870152\n"
     ]
    }
   ],
   "source": [
    "#clear 清空,内存中原列表仍存在\n",
    "a = [1,2,3]\n",
    "print(id(a))\n",
    "print(a)\n",
    "a.clear()\n",
    "print(a)\n",
    "print(id(a))"
   ]
  },
  {
   "cell_type": "code",
   "execution_count": 5,
   "metadata": {},
   "outputs": [
    {
     "name": "stdout",
     "output_type": "stream",
     "text": [
      "[1, 2, 3]\n",
      "140541402487688\n",
      "[3, 2, 1]\n",
      "140541402487688\n"
     ]
    }
   ],
   "source": [
    "#reverse()：翻转\n",
    "a = [1,2,3]\n",
    "print(a)\n",
    "print(id(a))\n",
    "a.reverse()\n",
    "print(a)\n",
    "print(id(a))"
   ]
  },
  {
   "cell_type": "code",
   "execution_count": 9,
   "metadata": {},
   "outputs": [
    {
     "name": "stdout",
     "output_type": "stream",
     "text": [
      "[3, 2, 1, 2, 2]\n",
      "[3, 2, 1, 2, 2, 2]\n"
     ]
    },
    {
     "data": {
      "text/plain": [
       "4"
      ]
     },
     "execution_count": 9,
     "metadata": {},
     "output_type": "execute_result"
    }
   ],
   "source": [
    "#count()查找列表中指定值或元素的个数\n",
    "print(a)\n",
    "a.append(2)\n",
    "print(a)\n",
    "a.count(2)"
   ]
  },
  {
   "cell_type": "code",
   "execution_count": 15,
   "metadata": {},
   "outputs": [
    {
     "name": "stdout",
     "output_type": "stream",
     "text": [
      "[1, 23, 3]\n",
      "[1, 23, 33]\n",
      "140541403166344\n",
      "[1, 23, 33]\n",
      "140541403166344\n",
      "********************\n",
      "[4, 5, 6]\n",
      "140541402314568\n",
      "140541462888904\n",
      "********************\n",
      "[4, 5, 6]\n",
      "[4, 5, 7]\n"
     ]
    }
   ],
   "source": [
    "#copy 浅拷贝\n",
    "a = [1,23,3]\n",
    "print(a)\n",
    "b = a\n",
    "b[2] = 33\n",
    "print(b)\n",
    "print(id(b))\n",
    "print(a)\n",
    "print(id(a))\n",
    "print(\"*\"* 20) \n",
    "\n",
    "c = [4,5,6]\n",
    "d = c.copy()\n",
    "print(c)\n",
    "print(id(c))\n",
    "print(id(d))\n",
    "print(\"*\"* 20) \n",
    "\n",
    "d[2]=7\n",
    "print(c)\n",
    "print(d)\n"
   ]
  },
  {
   "cell_type": "code",
   "execution_count": 30,
   "metadata": {},
   "outputs": [
    {
     "name": "stdout",
     "output_type": "stream",
     "text": [
      "['yi', 100, 'er', 200, 'san', 300, 'si', 400, 'wu', 500]\n"
     ]
    }
   ],
   "source": [
    "#列表练习\n",
    "movies =['yi','er','san','si','wu']\n",
    "movies.insert(1,100)\n",
    "movies.insert(3,200)\n",
    "movies.insert(5,300)\n",
    "movies.insert(7,400)\n",
    "movies.insert(9,500)\n",
    "print(movies)\n",
    "    "
   ]
  },
  {
   "cell_type": "code",
   "execution_count": 31,
   "metadata": {},
   "outputs": [
    {
     "name": "stdout",
     "output_type": "stream",
     "text": [
      "['yi', 100, 'er', 200, 'san', 300, 'si', 400, 'wu', 500]\n"
     ]
    }
   ],
   "source": [
    "#列表练习2\n",
    "movies =['yi', 100, 'er', 200, 'san', 300, 'si', 400, 'wu', 500]\n",
    "print(movies)"
   ]
  },
  {
   "cell_type": "code",
   "execution_count": 46,
   "metadata": {
    "scrolled": true
   },
   "outputs": [
    {
     "name": "stdout",
     "output_type": "stream",
     "text": [
      "100\n",
      "['A', 'B', 'C', ['a', 'b', 'c']]\n",
      "B\n",
      "['a', 'b', 'c']\n",
      "b\n",
      "yi,100,er,200,san,300,['A', 'B', 'C', ['a', 'b', 'c']],"
     ]
    }
   ],
   "source": [
    "#循环练习1\n",
    "movies =['yi', 100, 'er', 200, 'san', 300, ['A','B','C',['a','b','c']]]\n",
    "print(movies[1])\n",
    "print(movies[6])\n",
    "print(movies[6][1])\n",
    "print(movies[6][3])\n",
    "print(movies[6][3][1])\n",
    "for i in movies:\n",
    "    print(i,end = ',')\n"
   ]
  },
  {
   "cell_type": "code",
   "execution_count": 58,
   "metadata": {},
   "outputs": [
    {
     "name": "stdout",
     "output_type": "stream",
     "text": [
      "yi 100 er 200 san 300 A B C a  b  c  "
     ]
    },
    {
     "data": {
      "text/plain": [
       "True"
      ]
     },
     "execution_count": 58,
     "metadata": {},
     "output_type": "execute_result"
    }
   ],
   "source": [
    "#循环练习2\n",
    "#isinstance() 判断某个的特定的变量是否为指定的数据类型\n",
    "movies =['yi', 100, 'er', 200, 'san', 300, ['A','B','C',['a','b','c']]]\n",
    "for i in movies:\n",
    "    if isinstance(i,list):\n",
    "        for ii in i:\n",
    "            if isinstance(ii,list):\n",
    "                \n",
    "                for iii in ii:\n",
    "                    print(iii,end='  ')\n",
    "            else:\n",
    "                print(ii,end=' ')\n",
    "            \n",
    "    else:\n",
    "        print(i, end=' ')\n",
    "isinstance(ii,list)"
   ]
  },
  {
   "cell_type": "code",
   "execution_count": 17,
   "metadata": {},
   "outputs": [
    {
     "name": "stdout",
     "output_type": "stream",
     "text": [
      "yi 100 er 200 san 300 A B C a b 22 33 c "
     ]
    }
   ],
   "source": [
    "#函数练习\n",
    "def print_lol(the_list):\n",
    "    for i in the_list:\n",
    "        if isinstance(i,list):\n",
    "            print_lol(i)\n",
    "        else:\n",
    "            print(i,end=' ')\n",
    "movies =['yi', 100, 'er', 200, 'san', 300, ['A','B','C',['a','b', [22,33],'c']]]\n",
    "print_lol(movies)"
   ]
  },
  {
   "cell_type": "code",
   "execution_count": 5,
   "metadata": {},
   "outputs": [
    {
     "name": "stdout",
     "output_type": "stream",
     "text": [
      "139751646982664\n",
      "['pp', 'ss', 'v', 'wws', 'xs']\n",
      "139751646982664\n",
      "['xs', 'wws', 'v', 'ss', 'pp']\n"
     ]
    }
   ],
   "source": [
    "# sort()\n",
    "a = ['v','xs','wws','ss','pp']\n",
    "print(id(a))\n",
    "a.sort()\n",
    "print(a)\n",
    "print(id(a))\n",
    "#按字母反向排序\n",
    "a.sort(reverse=True)\n",
    "print(a)"
   ]
  },
  {
   "cell_type": "code",
   "execution_count": 17,
   "metadata": {},
   "outputs": [
    {
     "name": "stdout",
     "output_type": "stream",
     "text": [
      "139751594504648\n",
      "['v', 'xs', 'wws', 'ss', 'pp']\n",
      "['pp', 'ss', 'v', 'wws', 'xs']\n",
      "139751594751688\n",
      "['v', 'xs', 'wws', 'ss', 'pp']\n",
      "['xs', 'wws', 'v', 'ss', 'pp']\n"
     ]
    }
   ],
   "source": [
    "# sorted()\n",
    "a = ['v','xs','wws','ss','pp']\n",
    "print(id(a))\n",
    "print(a)\n",
    "print(sorted(a))\n",
    "print(id(sorted(a)))\n",
    "print(a)\n",
    "print(sorted(a,reverse=True))\n",
    "\n",
    "\n"
   ]
  },
  {
   "cell_type": "code",
   "execution_count": 19,
   "metadata": {},
   "outputs": [
    {
     "name": "stdout",
     "output_type": "stream",
     "text": [
      "139751594506120\n",
      "['v', 'xs', 'wws', 'ss', 'pp']\n",
      "['pp', 'ss', 'wws', 'xs', 'v']\n",
      "139751594506120\n"
     ]
    }
   ],
   "source": [
    "# reverse()\n",
    "a = ['v','xs','wws','ss','pp']\n",
    "print(id(a))\n",
    "print(a)\n",
    "a.reverse()\n",
    "print(a)\n",
    "print(id(a))"
   ]
  },
  {
   "cell_type": "code",
   "execution_count": 45,
   "metadata": {},
   "outputs": [
    {
     "name": "stdout",
     "output_type": "stream",
     "text": [
      "[0, 1, 2, 3, 4, 5, 6, 7, 8, 9, 10]\n",
      "[0, 1, 2, 3, 4, 5, 6, 7, 8, 9, 10]\n",
      "[0, 1, 8, 27, 64, 125, 216, 343, 512, 729, 1000]\n"
     ]
    }
   ],
   "source": [
    "# 列表解析\n",
    "# 列表解析将for循环和创建新元素的代码合并成一行，并自动附加新元素。\n",
    "a = []\n",
    "for i in range(0,11):\n",
    "    a.append(i)\n",
    "print(a)\n",
    "\n",
    "# 等价于\n",
    "aa = [i for i in range(0,11)]\n",
    "print(aa)\n",
    "aaa = [i ** 3 for i in range(0,11)]\n",
    "print(aaa)\n"
   ]
  },
  {
   "cell_type": "code",
   "execution_count": 34,
   "metadata": {},
   "outputs": [
    {
     "name": "stdout",
     "output_type": "stream",
     "text": [
      "Alicethat was a great trick!\n",
      "Davidthat was a great trick!\n",
      "Carolinathat was a great trick!\n"
     ]
    }
   ],
   "source": [
    "magicians = ['alice', 'david', 'carolina'] \n",
    "for magician in magicians:\n",
    "    print('{0}'.format(magician).title()+\"that was a great trick!\")"
   ]
  },
  {
   "cell_type": "code",
   "execution_count": 35,
   "metadata": {},
   "outputs": [
    {
     "ename": "SyntaxError",
     "evalue": "keyword can't be an expression (<ipython-input-35-f364c512678c>, line 3)",
     "output_type": "error",
     "traceback": [
      "\u001b[0;36m  File \u001b[0;32m\"<ipython-input-35-f364c512678c>\"\u001b[0;36m, line \u001b[0;32m3\u001b[0m\n\u001b[0;31m    print(\"{0}\"+\"+\" \"{1}\".format(a,b) = 3)\u001b[0m\n\u001b[0m         ^\u001b[0m\n\u001b[0;31mSyntaxError\u001b[0m\u001b[0;31m:\u001b[0m keyword can't be an expression\n"
     ]
    }
   ],
   "source": []
  },
  {
   "cell_type": "markdown",
   "metadata": {},
   "source": [
    "# 元组 tuple\n",
    "- 元组可以看成是一个不可更改的list\n",
    "\n",
    "## 元组的特性\n",
    "- 有序列表\n",
    "- 元组元素可以访问，但不能修改\n",
    "- 元组数据可以为任意类型\n",
    "- 元组具有列表的索引，分片，序列相加，乘，成员资格操作等"
   ]
  },
  {
   "cell_type": "code",
   "execution_count": 24,
   "metadata": {},
   "outputs": [
    {
     "name": "stdout",
     "output_type": "stream",
     "text": [
      "3\n"
     ]
    }
   ],
   "source": [
    "#元组练习\n",
    "t = (1,2,3,34,5,6,7,8,9,90,33)\n",
    "print(t[2])"
   ]
  },
  {
   "cell_type": "code",
   "execution_count": 26,
   "metadata": {},
   "outputs": [
    {
     "name": "stdout",
     "output_type": "stream",
     "text": [
      "140541462800136\n",
      "(1, 2, 3, 4, 5, 6)\n",
      "140541542337128\n"
     ]
    }
   ],
   "source": [
    "#元组相加\n",
    "t1 = (1,2,3)\n",
    "t2 = (4,5,6)\n",
    "print(id(t1))\n",
    "t1 = t1 + t2\n",
    "print(t1)\n",
    "print(id(t1))"
   ]
  },
  {
   "cell_type": "code",
   "execution_count": 28,
   "metadata": {},
   "outputs": [
    {
     "name": "stdout",
     "output_type": "stream",
     "text": [
      "123 2asd 123 55 6 7 cc "
     ]
    }
   ],
   "source": [
    "# 元组遍历，for循环\n",
    "# 1，单层元组遍历\n",
    "t = (123,'2asd',123,55,6,7,'cc')\n",
    "for i in t:\n",
    "    print(i,end = ' ')"
   ]
  },
  {
   "cell_type": "code",
   "execution_count": 16,
   "metadata": {},
   "outputs": [
    {
     "name": "stdout",
     "output_type": "stream",
     "text": [
      "(1, 2, 3)\n",
      "(4, 5, 6)\n",
      "('cc', 'aa', 'bb')\n",
      "####################\n",
      "1 -- 2 -- 3\n",
      "4 -- 5 -- 6\n",
      "cc -- aa -- bb\n",
      "####################\n",
      "1 2 3 4 5 6 cc aa bb 33 "
     ]
    }
   ],
   "source": [
    "# 2,双层元组遍历\n",
    "t = ((1,2,3),(4,5,6),('cc','aa','bb'))\n",
    "for i in t:\n",
    "    print(i)\n",
    "print('#'* 20)\n",
    "\n",
    "for j,k,l in t:\n",
    "    print(j,'--',k,'--',l)\n",
    "print('#'* 20)    \n",
    "tt = ((1,2,3),(4,5,6),('cc','aa','bb'), 33)\n",
    "def print_lol(the_tuple):\n",
    "    for i in the_tuple:\n",
    "        if isinstance(i,tuple):\n",
    "            print_lol(i)\n",
    "        else:\n",
    "            print(i,end=' ')\n",
    "print_lol(tt)"
   ]
  },
  {
   "cell_type": "code",
   "execution_count": 4,
   "metadata": {},
   "outputs": [
    {
     "name": "stdout",
     "output_type": "stream",
     "text": [
      "2 1\n"
     ]
    }
   ],
   "source": [
    "#元组变量交换\n",
    "a = 1\n",
    "b = 2\n",
    "a, b = b, a\n",
    "print(a,b)"
   ]
  },
  {
   "cell_type": "markdown",
   "metadata": {},
   "source": [
    "# 集合 -set\n",
    "## 集合的特征\n",
    "- 集合数据无序。不能使用索引和分片\n",
    "- 集合内部数据具有唯一性，可以用来排重\n",
    "- 集合内部元素只可为可哈希值"
   ]
  },
  {
   "cell_type": "code",
   "execution_count": 5,
   "metadata": {},
   "outputs": [
    {
     "name": "stdout",
     "output_type": "stream",
     "text": [
      "<class 'set'>\n"
     ]
    }
   ],
   "source": [
    "#集合的定义\n",
    "s = set()\n",
    "print(type(s))"
   ]
  },
  {
   "cell_type": "markdown",
   "metadata": {},
   "source": [
    "# 集合操作"
   ]
  },
  {
   "cell_type": "code",
   "execution_count": 6,
   "metadata": {},
   "outputs": [
    {
     "name": "stdout",
     "output_type": "stream",
     "text": [
      "1\n"
     ]
    }
   ],
   "source": [
    "#成员检测 in / not in\n",
    "s = {1,2,3,4,'aa','cc'}\n",
    "if 1 in s:\n",
    "    print(1)"
   ]
  },
  {
   "cell_type": "code",
   "execution_count": 8,
   "metadata": {},
   "outputs": [
    {
     "name": "stdout",
     "output_type": "stream",
     "text": [
      "1\n",
      "2\n",
      "3\n",
      "4\n",
      "cc\n",
      "aa\n",
      "<class 'set'>\n"
     ]
    }
   ],
   "source": [
    "# 集合的遍历操作\n",
    "s = {1,2,3,4,'aa','cc'}\n",
    "for i in s:\n",
    "    print(i)\n",
    "print(type(s))"
   ]
  },
  {
   "cell_type": "code",
   "execution_count": 20,
   "metadata": {},
   "outputs": [
    {
     "name": "stdout",
     "output_type": "stream",
     "text": [
      "a -- b -- c\n",
      "4 -- 5 -- 6\n",
      "1 -- 2 -- 3\n",
      "------------------------------\n",
      "a b c 4 5 6 11 22 1 2 3 "
     ]
    }
   ],
   "source": [
    "# 带有嵌套的集合遍历\n",
    "s = {(1,2,3), (4,5,6),('a', 'b', 'c')}\n",
    "for a,b,c in s:\n",
    "    print(a, '--', b, '--', c)\n",
    "print('-'*30)\n",
    "ss = {(1,2,3), (4,5,6,(11,22)),('a', 'b', 'c')}\n",
    "def print_lol(the_set):\n",
    "    for i in the_set:\n",
    "        if isinstance(i,tuple):\n",
    "            print_lol(i)\n",
    "        else:\n",
    "            print(i,end=' ')\n",
    "print_lol(ss)"
   ]
  },
  {
   "cell_type": "code",
   "execution_count": 22,
   "metadata": {},
   "outputs": [
    {
     "name": "stdout",
     "output_type": "stream",
     "text": [
      "{1, 2}\n"
     ]
    }
   ],
   "source": [
    "# 集合添加元素\n",
    "s = {2}\n",
    "s.add(1)\n",
    "print(s)"
   ]
  },
  {
   "cell_type": "code",
   "execution_count": 29,
   "metadata": {},
   "outputs": [
    {
     "name": "stdout",
     "output_type": "stream",
     "text": [
      "set()\n",
      "<class 'set'>\n"
     ]
    }
   ],
   "source": [
    "# 集合清空元素\n",
    "s = {1, 2}\n",
    "s.clear()\n",
    "print(s)\n",
    "print(type(s))"
   ]
  },
  {
   "cell_type": "code",
   "execution_count": 24,
   "metadata": {},
   "outputs": [],
   "source": [
    "# cope 拷贝\n",
    "# remove 移除集合中指定的一个值\n",
    "# discard\n",
    "# pop 移除一个数据"
   ]
  },
  {
   "cell_type": "markdown",
   "metadata": {},
   "source": [
    "# 集合函数\n",
    "- insersection 交集\n",
    "- diffeernce 差集\n",
    "- union 并集\n",
    "- issubset 检测一个集合是否是另一个集合的子集\n",
    "- issuper 检测一个集合是否是另一个集合的超集\n"
   ]
  },
  {
   "cell_type": "code",
   "execution_count": 27,
   "metadata": {},
   "outputs": [
    {
     "name": "stdout",
     "output_type": "stream",
     "text": [
      "{5}\n",
      "{1, 2, 3, 4}\n",
      "False\n"
     ]
    }
   ],
   "source": [
    "s1 = {1,2,3,4,5}\n",
    "s2 = {5,6,7,8,9}\n",
    "\n",
    "s_1 = s1.intersection(s2)\n",
    "print(s_1)\n",
    "\n",
    "s_2 = s1.difference(s2)\n",
    "print(s_2)\n",
    "\n",
    "s3 = s1.issubset(s2)\n",
    "print(s3)"
   ]
  },
  {
   "cell_type": "markdown",
   "metadata": {},
   "source": [
    "## 冰冻集合 frozen set\n",
    "- 冰冻结合不可修改"
   ]
  },
  {
   "cell_type": "code",
   "execution_count": 28,
   "metadata": {},
   "outputs": [
    {
     "name": "stdout",
     "output_type": "stream",
     "text": [
      "<class 'frozenset'>\n"
     ]
    }
   ],
   "source": [
    "# 创建\n",
    "s = frozenset()\n",
    "print(type(s))"
   ]
  },
  {
   "cell_type": "markdown",
   "metadata": {},
   "source": [
    "# 字典\n",
    "## 字典的特征\n",
    "- 字典是无序类型，不可以分片和索引\n",
    "- 字典是一种组合数据，没有顺序的组合数据，数据以键值对出现\n",
    "    - kye:必须是可哈希值\n",
    "    - value:任何值"
   ]
  },
  {
   "cell_type": "code",
   "execution_count": 42,
   "metadata": {},
   "outputs": [
    {
     "name": "stdout",
     "output_type": "stream",
     "text": [
      "<class 'dict'>\n",
      "{'one': 1, 'two': 2, 'three': 3}\n"
     ]
    }
   ],
   "source": [
    "#创建字典\n",
    "d = {\"one\":1, \"two\":2, \"three\":3}\n",
    "print(type(d))\n",
    "print(d)\n",
    "\n",
    "#利用关键字\n",
    "dd = dict(one=1)"
   ]
  },
  {
   "cell_type": "markdown",
   "metadata": {},
   "source": [
    "# 字典操作"
   ]
  },
  {
   "cell_type": "code",
   "execution_count": 46,
   "metadata": {},
   "outputs": [
    {
     "name": "stdout",
     "output_type": "stream",
     "text": [
      "1\n",
      "{'b': 2, 'c': 3}\n",
      "1\n"
     ]
    }
   ],
   "source": [
    "#访问字典\n",
    "d = {'a':1, 'b':2, \"c\":3}\n",
    "#访问键\n",
    "print(d['a'])\n",
    "\n",
    "#删除 del\n",
    "del d['a']\n",
    "print(d)\n",
    "\n",
    "#成员操作 in / not in\n",
    "#成员操作只检测key的值\n",
    "if 'b' in d:\n",
    "    print(1)\n",
    "    \n"
   ]
  },
  {
   "cell_type": "code",
   "execution_count": 50,
   "metadata": {},
   "outputs": [
    {
     "name": "stdout",
     "output_type": "stream",
     "text": [
      "a 1\n",
      "b 2\n",
      "c 3\n",
      "a 1\n",
      "b 2\n",
      "c 3\n",
      "1\n",
      "2\n",
      "3\n",
      "a -- 1\n",
      "b -- 2\n",
      "c -- 3\n"
     ]
    }
   ],
   "source": [
    "#字典遍历\n",
    "d = {'a':1, 'b':2, \"c\":3}\n",
    "for k in d:\n",
    "    print(k,d[k])\n",
    "#(2)\n",
    "for k in d.keys():\n",
    "    print(k,d[k])\n",
    "for v in d.values():\n",
    "    print(v)\n",
    "#(3)\n",
    "for k,v in d.items():\n",
    "    print(k,'--', v)\n"
   ]
  },
  {
   "cell_type": "code",
   "execution_count": 53,
   "metadata": {},
   "outputs": [
    {
     "name": "stdout",
     "output_type": "stream",
     "text": [
      "{'a': 1, 'b': 2, 'c': 3}\n",
      "{'b': 2}\n"
     ]
    }
   ],
   "source": [
    "#字典的生成式\n",
    "d = {'a':1, 'b':2, \"c\":3}\n",
    "dd = {k:v for k,v in d.items()}\n",
    "print(dd)\n",
    "\n",
    "#加限制条件的字典的生成式\n",
    "dd = {k:v for k,v in d.items() if v % 2 ==0}\n",
    "print(dd)"
   ]
  },
  {
   "cell_type": "markdown",
   "metadata": {},
   "source": [
    "# 字典相关函数"
   ]
  },
  {
   "cell_type": "code",
   "execution_count": 54,
   "metadata": {},
   "outputs": [
    {
     "name": "stdout",
     "output_type": "stream",
     "text": [
      "<class 'dict_items'>\n",
      "dict_items([('a', 1), ('b', 2), ('c', 3)])\n"
     ]
    }
   ],
   "source": [
    "#items:返回字典的键值对的元组格式\n",
    "d = {'a':1, 'b':2, \"c\":3}\n",
    "i = d.items()\n",
    "print(type(i))\n",
    "print(i)"
   ]
  },
  {
   "cell_type": "code",
   "execution_count": 55,
   "metadata": {},
   "outputs": [
    {
     "name": "stdout",
     "output_type": "stream",
     "text": [
      "1\n",
      "None\n",
      "100\n"
     ]
    }
   ],
   "source": [
    "# get:根据指定的键返回相应的值，可以设置默认值\n",
    "d = {'a':1, 'b':2, \"c\":3}\n",
    "print(d.get('a'))\n",
    "print(d.get('aa'))\n",
    "print(d.get('aa',100))\n"
   ]
  },
  {
   "cell_type": "code",
   "execution_count": 57,
   "metadata": {},
   "outputs": [
    {
     "name": "stdout",
     "output_type": "stream",
     "text": [
      "{1: 123, 2: 123, 3: 123}\n"
     ]
    }
   ],
   "source": [
    "# formkeys:使用指定的序列（list,tuple）作为键，使用一个值作为所有键的值\n",
    "l = [1,2,3]\n",
    "# formkeys的调用主体为dict\n",
    "d = dict.fromkeys(l,123)\n",
    "print(d)"
   ]
  },
  {
   "cell_type": "code",
   "execution_count": null,
   "metadata": {},
   "outputs": [],
   "source": []
  }
 ],
 "metadata": {
  "kernelspec": {
   "display_name": "Python 3",
   "language": "python",
   "name": "python3"
  },
  "language_info": {
   "codemirror_mode": {
    "name": "ipython",
    "version": 3
   },
   "file_extension": ".py",
   "mimetype": "text/x-python",
   "name": "python",
   "nbconvert_exporter": "python",
   "pygments_lexer": "ipython3",
   "version": "3.7.0"
  }
 },
 "nbformat": 4,
 "nbformat_minor": 2
}
