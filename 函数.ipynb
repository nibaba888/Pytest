{
 "cells": [
  {
   "cell_type": "markdown",
   "metadata": {},
   "source": [
    " # 函数\n",
    " - 代码的一种组织形式\n",
    " - 一个函数一般完成一线特定的功能\n",
    " - 函数使用:\n",
    "     \n",
    "      1,函数需要先定义\n",
    "         \n",
    "          (1) def关键字，后跟一个空格\n",
    "          (2) 函数名，自定义。不能使用大驼峰，大驼峰命名类\n",
    "          (3) 后面括号和冒号不能省，括号内可以有参数\n",
    "          (4) 函数内所有代码缩进\n",
    "      \n",
    "\t  2，使用函数，俗称调用"
   ]
  },
  {
   "cell_type": "code",
   "execution_count": 35,
   "metadata": {},
   "outputs": [],
   "source": [
    "# 定义一个函数\n",
    "# 定义的函数不会执行\n",
    "def func():\n",
    "    print(\"hello world!\")\n",
    "    print(\"Over!@!\")"
   ]
  },
  {
   "cell_type": "code",
   "execution_count": 41,
   "metadata": {},
   "outputs": [
    {
     "name": "stdout",
     "output_type": "stream",
     "text": [
      "hello world!\n",
      "Over!@!\n"
     ]
    }
   ],
   "source": [
    " # 函数的调用\n",
    " #函数名+括号\n",
    "func()"
   ]
  },
  {
   "cell_type": "markdown",
   "metadata": {},
   "source": [
    " # 函数的参数和返回值\n",
    " - 参数：负责给函数传递一些必要的数据或者信息\n",
    "     - 形参（形式参数）：在函数定义的时候用到的参数没有具体值，只是一个占的符号\n",
    "     - 实参（实际参数）：在调用函数的时候输入的值\n",
    " - 参数分类：\n",
    "\t - 普通参数\n",
    "     \n",
    "                def  函数名 (参数1，参数2，....):\n",
    "                       函数体\n",
    "                  \n",
    "                  \n",
    "                   #调用   按位置赋值\n",
    "\n",
    "                    函数名(value1,value2,.....)\n",
    "\t \n",
    "     \n",
    "     - 默认参数\n",
    "         - 好处：不容易混淆\n",
    "     \n",
    "                 def func_name(p1=v1,p2=v2....):\n",
    "                         函数体\n",
    "                  \n",
    "                  #调用 1\n",
    "                  func_name()\n",
    "                  #调用 2\n",
    "                  value1=100\n",
    "                  value2=200\n",
    "                  func_name(value1,value2)\n",
    "\t - 关键词参数\n",
    "          - 好处：不容易混淆,可以不考虑参数位置问题\n",
    "     \n",
    "                 def func(p1=v1,p2=v2...):\n",
    "                     func_body\n",
    "                 #调用 \n",
    "                 func(p1=value1,p2=value2...)\n",
    "                 \n",
    "\t - 收集参数:把没有位置，不能和定义时的参数位置相对应的参数，放入一个特定的数据结构中,收集参数\n",
    "          - 关键词收集参数：把关键词参数按字典格式放入收集参数,访问需按字典格式访问。\n",
    "          - 收集参数混合调用的顺序：\n",
    "              - 收集参数，关键字参数，普通参数可以混合使用\n",
    "              - 规则：普通参数和关键字参数优先\n",
    "              - 优先级：普通参数>关键字参数>收集参数(tuple)>收集参数（dict）\n",
    "          - 收集参数的解包问题\n",
    "              - 把参数放入list/dict中，直接把list/dict中的值放入收集参数中。\n",
    "              - 需将list/dict解包， *    \n",
    "     \n",
    "     \n",
    "                 \n",
    "                 \n",
    "                 \n",
    "                     收集参数：\n",
    "                     def func(*args):\n",
    "                         func_body\n",
    "                     #调用\n",
    "                     func(p1,p2,p3...)\n",
    "                 \n",
    "                     关键词收集参数：\n",
    "                     def func(*kwargs):\n",
    "                         func_body\n",
    "                     #调用\n",
    "                     func(p1=v1,p2=v2,p3=v3...)\n",
    " - 返回值：函数的执行结果\n",
    "      - 使用return关键字\n",
    "      - 函数和过程的区别：\n",
    "          - 有无返回值\n",
    "      - 如果没有return，默认返回一个None// return None\n",
    "      - 函数一旦执行return，则无条件返回。结束函数执行.\n",
    "      - 推荐写法，无论有无返回值，都应以return结束。\n",
    "  "
   ]
  },
  {
   "cell_type": "markdown",
   "metadata": {},
   "source": [
    "# 函数文档\n",
    "  - 函数的文档的作用是对当前函数提供使用相关的参考信息。\n",
    "  - 写法。\n",
    "      - 在函数内部开始的第一行使用三个字符串定义符(''' ''')\n",
    "      - 一般具有特定格式\n",
    "  - 文档查看\n",
    "      - 使用help()。\n",
    "      - 使用__doc__。"
   ]
  },
  {
   "cell_type": "markdown",
   "metadata": {},
   "source": [
    "# 函数的作用域\n",
    "- 变量作用域\n",
    "- 分类：\n",
    "    - 全局：在函数外部定义\n",
    "    - 局部：在函数内部定义\n",
    "- 变量的作用范围：\n",
    "    - 全局：全局范围有效，可在局部使用\n",
    "    - 局部：只可在指定函数内使用\n",
    "- LEGB原则：\n",
    "    - 由内部访问外部\n",
    "- 提升局部变量为全局变量\n",
    "    - 使用global,将局部变量替换为全局变量              \n",
    "- globals():显示出所有的全局变量\n",
    "- locals():显示出所有的局部变量\n",
    "                 \n",
    "                    \n",
    "               "
   ]
  },
  {
   "cell_type": "markdown",
   "metadata": {},
   "source": [
    "# eval()\n",
    "- 把一个字符串当做一个表达式执行，返回表达式执行后的结果\n",
    " "
   ]
  },
  {
   "cell_type": "markdown",
   "metadata": {},
   "source": [
    "# 递归函数\n",
    "- 函数直接或者间接调用自身\n",
    "- 缺点：对递归深度有限制，消耗资源大。\n",
    "- 注：递归结束条件"
   ]
  },
  {
   "cell_type": "code",
   "execution_count": 37,
   "metadata": {},
   "outputs": [
    {
     "name": "stdout",
     "output_type": "stream",
     "text": [
      "hello wangming\n"
     ]
    }
   ],
   "source": [
    " # 参数的定义和使用\n",
    " # 参数name只是一个符号，代表的是调用的时候的某一个数据\n",
    " # 调用的时候，会用man的值代替函数中所有的name\n",
    "def hello(name):\n",
    "      print(\"hello {0}\".format(name))\n",
    "man = 'wangming'\n",
    "hello(man)"
   ]
  },
  {
   "cell_type": "code",
   "execution_count": 48,
   "metadata": {},
   "outputs": [
    {
     "name": "stdout",
     "output_type": "stream",
     "text": [
      "hello wangming\n",
      "Over with wangming\n"
     ]
    }
   ],
   "source": [
    "# return使用\n",
    "def hello(name):\n",
    "      print(\"hello {0}\".format(name))\n",
    "      \n",
    "      return \"Over with {0}\".format(name)\n",
    "    \n",
    "man = 'wangming'\n",
    "rst = hello(man)\n",
    "\n",
    "print(rst)"
   ]
  },
  {
   "cell_type": "code",
   "execution_count": 2,
   "metadata": {},
   "outputs": [
    {
     "name": "stdout",
     "output_type": "stream",
     "text": [
      "hello wangming\n",
      "early\n"
     ]
    }
   ],
   "source": [
    "# return使用 2\n",
    "def hello(name):\n",
    "    print(\"hello {0}\".format(name))\n",
    "    return \"early\"\n",
    "    print(\"Ohter\")  \n",
    "    return \"Over with {0}\".format(name)\n",
    "    \n",
    "man = 'wangming'\n",
    "rst = hello(man)\n",
    "\n",
    "print(rst)"
   ]
  },
  {
   "cell_type": "code",
   "execution_count": 10,
   "metadata": {},
   "outputs": [
    {
     "name": "stdout",
     "output_type": "stream",
     "text": [
      "wamg is 12,he is a man\n",
      "wamg is 12,she is a woman\n"
     ]
    }
   ],
   "source": [
    "#默认参数示例\n",
    "def reg(name,age,gender=\"male\"):\n",
    "    if gender == \"male\":\n",
    "        print(\"{0} is {1},he is a man\".format(name,age))\n",
    "    else:\n",
    "        print(\"{0} is {1},she is a woman\".format(name,age))\n",
    "reg(\"wamg\",12)\n",
    "reg(\"wamg\",12,gender=\"famale\")"
   ]
  },
  {
   "cell_type": "code",
   "execution_count": 11,
   "metadata": {},
   "outputs": [
    {
     "name": "stdout",
     "output_type": "stream",
     "text": [
      "wamg is 21,he is a man\n"
     ]
    }
   ],
   "source": [
    "#关键词参数示例\n",
    "def reg(name,age,gender):\n",
    "    print(\"{0} is {1},he is a {2}\".format(name,age,gender))\n",
    "\n",
    "reg(name=\"wamg\",age=21,gender=\"man\")"
   ]
  },
  {
   "cell_type": "code",
   "execution_count": 9,
   "metadata": {},
   "outputs": [
    {
     "name": "stdout",
     "output_type": "stream",
     "text": [
      "<class 'tuple'>\n",
      "1,23,4,5,6,"
     ]
    }
   ],
   "source": [
    "#收集参数示例\n",
    "def reg(*args):\n",
    "    print(type(args))\n",
    "    for item in args:\n",
    "        print(item,end=',')\n",
    "\n",
    "reg(1,23,4,5,6)\n",
    "    "
   ]
  },
  {
   "cell_type": "code",
   "execution_count": 10,
   "metadata": {},
   "outputs": [
    {
     "name": "stdout",
     "output_type": "stream",
     "text": [
      "<class 'dict'>\n",
      "name --- xaioming\n",
      "age --- 19\n",
      "work --- teacher\n"
     ]
    }
   ],
   "source": [
    "#关键字收集参数示例\n",
    "def stu( **kwargs):\n",
    "    print(type(kwargs))\n",
    "    for k,v in kwargs.items():\n",
    "        print(k,\"---\",v)\n",
    "    \n",
    "stu(name=\"xaioming\",age=19,work=\"teacher\")\n"
   ]
  },
  {
   "cell_type": "code",
   "execution_count": 25,
   "metadata": {},
   "outputs": [
    {
     "name": "stdout",
     "output_type": "stream",
     "text": [
      "i'm xiaoming,19 years old\n",
      "i like to listen music\n",
      "**********\n",
      "**********\n",
      "i'm xiaoming,19 years old\n",
      "i like to sing\n",
      "**********\n",
      "**********\n",
      "i'm xiaoming,19 years old\n",
      "i like to sing\n",
      "**********\n",
      "1\n",
      "2\n",
      "3\n",
      "**********\n",
      "a --- 123\n",
      "b --- 456\n"
     ]
    }
   ],
   "source": [
    "#收集参数混合调用示例\n",
    "def stu(name,age,*args,like=\"music\",**kwargs):\n",
    "    print(\"i'm {0},{1} years old\".format(name,age))\n",
    "    if like == \"music\":\n",
    "        print(\"i like to listen music\")\n",
    "    else:\n",
    "        print(\"i like to {0}\".format(like))\n",
    "    print(\"*\"*10)\n",
    "    for i in args:\n",
    "        print(i)\n",
    "    print(\"*\"*10)\n",
    "    for k,v in kwargs.items():\n",
    "        print(k, \"---\", v)\n",
    "#调用：\n",
    "name=\"xiaoming\"\n",
    "age=19\n",
    "stu(name, age)\n",
    "\n",
    "stu(name, age, like=\"sing\")\n",
    "\n",
    "stu(name, age, 1, 2, 3, like=\"sing\", a=123,b=456)\n",
    "    "
   ]
  },
  {
   "cell_type": "code",
   "execution_count": 34,
   "metadata": {},
   "outputs": [
    {
     "name": "stdout",
     "output_type": "stream",
     "text": [
      "Help on function stu in module __main__:\n",
      "\n",
      "stu(name, age, *args)\n",
      "    函数文档\n",
      "    查看文档\n",
      "\n"
     ]
    },
    {
     "data": {
      "text/plain": [
       "'函数文档\\n       查看文档\\n    '"
      ]
     },
     "execution_count": 34,
     "metadata": {},
     "output_type": "execute_result"
    }
   ],
   "source": [
    "#文档示例\n",
    "def stu(name,age,*args):\n",
    "    '''函数文档\n",
    "       查看文档\n",
    "    '''\n",
    "    print(\"示例\")\n",
    "#查看文档\n",
    "#(1)\n",
    "help(stu)\n",
    "#(2)\n",
    "stu.__doc__\n"
   ]
  },
  {
   "cell_type": "code",
   "execution_count": 36,
   "metadata": {},
   "outputs": [
    {
     "name": "stdout",
     "output_type": "stream",
     "text": [
      "2\n"
     ]
    }
   ],
   "source": [
    "#global示例\n",
    "x=1\n",
    "def a(): \n",
    "    global x\n",
    "    x=2 \n",
    "    print(x)\n",
    "a()"
   ]
  },
  {
   "cell_type": "code",
   "execution_count": 38,
   "metadata": {},
   "outputs": [
    {
     "name": "stdout",
     "output_type": "stream",
     "text": [
      "5\n"
     ]
    }
   ],
   "source": [
    "#递归示例\n",
    "#斐波那契数列\n",
    "#一列数字，第一个值是1，第二个值也是1，从第三个开始，每一个的值等于前两个的和\n",
    "def fib(n):\n",
    "    if n==1:\n",
    "        return 1\n",
    "    if n==2:\n",
    "        return 1\n",
    "    return fib(n-1)+fib(n-2)\n",
    "\n",
    "print(fib(5))"
   ]
  }
 ],
 "metadata": {
  "kernelspec": {
   "display_name": "Python 3",
   "language": "python",
   "name": "python3"
  },
  "language_info": {
   "codemirror_mode": {
    "name": "ipython",
    "version": 3
   },
   "file_extension": ".py",
   "mimetype": "text/x-python",
   "name": "python",
   "nbconvert_exporter": "python",
   "pygments_lexer": "ipython3",
   "version": "3.7.0"
  }
 },
 "nbformat": 4,
 "nbformat_minor": 2
}
