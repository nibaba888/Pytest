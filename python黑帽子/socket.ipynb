{
 "cells": [
  {
   "cell_type": "code",
   "execution_count": 4,
   "metadata": {},
   "outputs": [
    {
     "ename": "TypeError",
     "evalue": "a bytes-like object is required, not 'str'",
     "output_type": "error",
     "traceback": [
      "\u001b[0;31m---------------------------------------------------------------------------\u001b[0m",
      "\u001b[0;31mTypeError\u001b[0m                                 Traceback (most recent call last)",
      "\u001b[0;32m<ipython-input-4-9c0654ec6ede>\u001b[0m in \u001b[0;36m<module>\u001b[0;34m()\u001b[0m\n\u001b[1;32m     14\u001b[0m \u001b[0;34m\u001b[0m\u001b[0m\n\u001b[1;32m     15\u001b[0m \u001b[0;31m#发送数据\u001b[0m\u001b[0;34m\u001b[0m\u001b[0;34m\u001b[0m\u001b[0m\n\u001b[0;32m---> 16\u001b[0;31m \u001b[0mclient\u001b[0m\u001b[0;34m.\u001b[0m\u001b[0msend\u001b[0m\u001b[0;34m(\u001b[0m\u001b[0;34m\"GET / HTTP1.1\\r\\nHOST:google.com\\r\\n\"\u001b[0m\u001b[0;34m)\u001b[0m\u001b[0;34m\u001b[0m\u001b[0m\n\u001b[0m\u001b[1;32m     17\u001b[0m \u001b[0;34m\u001b[0m\u001b[0m\n\u001b[1;32m     18\u001b[0m \u001b[0;31m#接收数据\u001b[0m\u001b[0;34m\u001b[0m\u001b[0;34m\u001b[0m\u001b[0m\n",
      "\u001b[0;31mTypeError\u001b[0m: a bytes-like object is required, not 'str'"
     ]
    }
   ],
   "source": [
    "#简易TCP客户端\n",
    "import socket\n",
    "\n",
    "target_host = \"www.google.com\"\n",
    "target_get = 80\n",
    "\n",
    "#建立一个socket对象\n",
    "#AF_INET参数说明使用IPv4地址或者主机名\n",
    "#SOCK_STREAM说明这是一个TCP客户端\n",
    "client = socket.socket(socket.AF_INET, socket.SOCK_STREAM)\n",
    "\n",
    "#；连接客户端\n",
    "client.connect((target_host,target_get))\n",
    "\n",
    "#发送数据\n",
    "client.send(\"GET / HTTP1.1\\r\\nHOST:google.com\\r\\n\")\n",
    "\n",
    "#接收数据\n",
    "response = client.recv(4096)\n",
    "\n",
    "print(response)"
   ]
  },
  {
   "cell_type": "code",
   "execution_count": null,
   "metadata": {},
   "outputs": [],
   "source": [
    "#简易TCP服务端\n",
    "import socket\n",
    "import threading\n",
    "\n",
    "bind_ip = \"0.0.0.0\"\n",
    "bind_port = 8888\n",
    "\n",
    "server = socket.socket(socket.AF_INET, socket.SOCK_STREAM)\n",
    "\n",
    "server.bind((bind_ip,bind_port))\n",
    "\n",
    "server.listen(5)\n",
    "\n",
    "print \"[*] Listening on %s:%d\" % (bind_ip,bind_port)\n",
    "\n",
    "#客户端处理线程\n",
    "def handle_cloent(clinet_socket):\n",
    "    #打印客户端发送得到内容\n",
    "    request = client_socket.recv(1024)\n",
    "    print \"[*] Received: %s\" % request\n",
    "    \n",
    "    #返回一个数据包\n",
    "    client_socket.send(\"ACK!\")\n",
    "    client_socket.close()\n",
    "while Ture:\n",
    "    client,addr = server.accept()\n",
    "    print \"[*] Accepted connection from： %s:%d\" % (addr[0],addr[1])\n",
    "    #挂起客户端线程，处理传入的数据\n"
   ]
  }
 ],
 "metadata": {
  "kernelspec": {
   "display_name": "Python 3",
   "language": "python",
   "name": "python3"
  },
  "language_info": {
   "codemirror_mode": {
    "name": "ipython",
    "version": 3
   },
   "file_extension": ".py",
   "mimetype": "text/x-python",
   "name": "python",
   "nbconvert_exporter": "python",
   "pygments_lexer": "ipython3",
   "version": "3.7.0"
  }
 },
 "nbformat": 4,
 "nbformat_minor": 2
}
