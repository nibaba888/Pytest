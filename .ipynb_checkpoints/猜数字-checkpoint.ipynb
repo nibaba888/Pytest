{
 "cells": [
  {
   "cell_type": "code",
   "execution_count": 38,
   "metadata": {},
   "outputs": [
    {
     "name": "stdout",
     "output_type": "stream",
     "text": [
      "你一共有6次机会，祝你好运！\n",
      "Start!\n",
      "请输入：15\n",
      "it's High!\n",
      "请输入：10\n",
      "it's High!\n",
      "请输入：5\n",
      "it's High!\n",
      "请输入：4\n",
      "it's High!\n",
      "请输入：1\n",
      "Right! It's 1\n",
      "Great!\n",
      "你一共猜了5次猜对了！\n",
      "再来一次，请输入：Yes\n",
      "yes\n",
      "你一共有6次机会，祝你好运！\n",
      "Start!\n",
      "请输入：18\n",
      "it's High!\n",
      "请输入：10\n",
      "it's Low!\n",
      "请输入：15\n",
      "it's Low!\n",
      "请输入：17\n",
      "it's High!\n",
      "请输入：16\n",
      "Right! It's 16\n",
      "Great!\n",
      "你一共猜了5次猜对了！\n",
      "再来一次，请输入：Yes\n",
      "no\n",
      "Bye\n"
     ]
    }
   ],
   "source": [
    "def a():\n",
    "    import random\n",
    "    Caiceshu = random.randint(1, 20)\n",
    "    print(\"你一共有6次机会，祝你好运！\")\n",
    "    print(\"Start!\")\n",
    "    for i in range(1, 7): \n",
    "        if i < 7:\n",
    "            Shurushu = int(input(\"请输入：\"))     \n",
    "            if Shurushu > Caiceshu:\n",
    "                print(\"it's High!\")\n",
    "            if Shurushu < Caiceshu:\n",
    "                print(\"it's Low!\")    \n",
    "            if Shurushu == Caiceshu:\n",
    "                print(\"Right! It's {0}\".format(Caiceshu))\n",
    "                print(\"Great!\")\n",
    "                print(\"你一共猜了{0}次猜对了！\".format(i))\n",
    "                break\n",
    "    if i == 6:\n",
    "        print(\"你没有猜对！\")\n",
    "    print(\"再来一次，请输入：Yes\")\n",
    "    again = input()\n",
    "    if again.lower() == 'yes':\n",
    "        a()\n",
    "    if again.lower() != 'yes':\n",
    "        print(\"Bye\")\n",
    "        return None\n",
    "a()"
   ]
  },
  {
   "cell_type": "code",
   "execution_count": 37,
   "metadata": {},
   "outputs": [
    {
     "ename": "NameError",
     "evalue": "name 'lower' is not defined",
     "output_type": "error",
     "traceback": [
      "\u001b[0;31m---------------------------------------------------------------------------\u001b[0m",
      "\u001b[0;31mNameError\u001b[0m                                 Traceback (most recent call last)",
      "\u001b[0;32m<ipython-input-37-1fda72aa7d36>\u001b[0m in \u001b[0;36m<module>\u001b[0;34m()\u001b[0m\n\u001b[0;32m----> 1\u001b[0;31m \u001b[0mlower\u001b[0m\u001b[0;34m(\u001b[0m\u001b[0;34m'Yes'\u001b[0m\u001b[0;34m)\u001b[0m\u001b[0;34m\u001b[0m\u001b[0m\n\u001b[0m",
      "\u001b[0;31mNameError\u001b[0m: name 'lower' is not defined"
     ]
    }
   ],
   "source": [
    "lower('Yes')"
   ]
  }
 ],
 "metadata": {
  "kernelspec": {
   "display_name": "Python 3",
   "language": "python",
   "name": "python3"
  },
  "language_info": {
   "codemirror_mode": {
    "name": "ipython",
    "version": 3
   },
   "file_extension": ".py",
   "mimetype": "text/x-python",
   "name": "python",
   "nbconvert_exporter": "python",
   "pygments_lexer": "ipython3",
   "version": "3.7.0"
  }
 },
 "nbformat": 4,
 "nbformat_minor": 2
}
