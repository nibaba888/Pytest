{
 "cells": [
  {
   "cell_type": "markdown",
   "metadata": {},
   "source": [
    "# OOP-Python面向对象\n",
    "\n",
    "# 0. 面向对象概述（Object Oriented,OO）\n",
    "- OOP思想\n",
    "    - 接触到任意一个任务，首先想到的是任务这个世界的构成，是由模型构成的。\n",
    "- 名词介绍：\n",
    "    - OO：面向对象\n",
    "    - OOA：面向对象的分析\n",
    "    - OOD：面向对象的设计\n",
    "    - OOI：xxx的实现\n",
    "    - OOP：xxx的编程\n",
    "    - OOA -> OOD -> OOI：面向对象的实现过程\n",
    "\n",
    "- 类和对象的概念\n",
    "    - 类：抽象名词,代表一个集合,共性的事物（学生）\n",
    "    - 对象:具象事物,单个个体（某个学生）\n",
    "    - 类和对象的关系\n",
    "        - 一个是具象,代表一类事物的某一个个体（某个学生）\n",
    "        - 一个是抽象,代表一大类事物\n",
    "    \n",
    "    - 类中的内容：\n",
    "        - 表明事物的特征,叫做属性(变量//身高，体重)\n",
    "        - 表明事物的功能或动作,成员方法（函数）\n",
    "\n",
    "# 1.类的基本实现\n",
    "- 类的命名\n",
    "    - 遵守变量命名规范\n",
    "    - 大驼峰（由一个或多个单词构成,每个单词首字母大写,单词和单词直接相连//The_First）\n",
    "    - 尽量避开跟系统命名相似的命名\n",
    "- 声明一个类\n",
    "    - 必须使用class关键字\n",
    "    - 类由属性和方法构成,其他不允许出现\n",
    "    - 成员属性定义可以使用变量赋值,如果没有值,使用None\n",
    "    - 01.py\n",
    "- 类的实例化：\n",
    "    - 变量 = 类名（）\n",
    "- 访问对象成员\n",
    "    - 使用.操作符\n",
    "        - obj.属性名\n",
    "        - obj.方法名\n",
    "- 通过默认内置变量检查类和对象的所有成员\n",
    "    - 对象的所有成员检查\n",
    "        - obj.__dict__\n",
    "    - 类的所有成员检查\n",
    "        - class_name.__dict__\n",
    " \n",
    "# 2.anaconda基本使用\n",
    "- anaconda只要是一个虚拟环境管理器\n",
    "- 还是一个安装包管理器\n",
    "- conda list: 显示anaconda安装的包\n",
    "- conda env list:显示所有虚拟环境列表\n",
    "- conda create -n oop python=3.6：创建虚拟环境\n",
    "\n",
    "# 3.类和对象的成员分析\n",
    "- 类和对象都可以存储成员,成员可以归类所有,也可以归对象所有\n",
    "- 类存储成员时使用的是与类关联的一个对象\n",
    "- 独享存储成员是存储在当前对象中\n",
    "- 对象访问一个成员时,如果对象中没有该成员,尝试访问类中的同名成员，如果对象中有此成员,一定使用对象中的成员。\n",
    "- 创建对象的时候,类中的成员不会放入对象中,而是得到一个空对象,没有成员\n",
    "- 通过对象对类中成员重新赋值过着通过对象添加成员时,对应成员会保存在对象中,而不会修改类成员\n",
    "\n",
    "# 4.关于self\n",
    "- self在对象的方法中表示当前对象本身,如果通过对象调用一个方法,那么该对象会自动传入到当前方法的第一个参数中\n",
    "- self并不是关键字,只是一个用于接受对象的普通参数\n",
    "- 方法中有self形参的方法成为非绑定类的方法,可以通过对象访问,没有self的是绑定类的方法,只能通过类访问\n",
    "- 使用类访问绑定类的方法时,如果类方法中需要访问当前类的成员,可以通过__class__成员名来访问\n",
    "\n",
    "# 5.面向对象的三大特性\n",
    "- 封装\n",
    "- 继承\n",
    "- 多态\n",
    "\n",
    "## 5.1 封装\n",
    "- 封装就是对对象的成员进行访问限制\n",
    "- 封装的级别：\n",
    "    - 公开，public\n",
    "    - 受保护的，protected\n",
    "    - 私有的，private\n",
    "    - public,protected,private不是关键字\n",
    "- 判别对象的位置\n",
    "    - 对象内部\n",
    "    - 对象外部\n",
    "    - 子类中\n",
    "- 私有\n",
    "    - 私有成员是最高级别的封装，只能在当前类或对象中访问\n",
    "    - 在成员前面添加两个_\n",
    "        \n",
    "            class Person():\n",
    "                #public\n",
    "                name = \"xiaoming\"\n",
    "                #private\n",
    "                __age = 18\n",
    "    - Python的私有为name mangling的改名，可以使用对象._classname（类名）__attributename(属性名）访问\n",
    "- 受保护的\n",
    "    - 受保护的封装是将对象成员进行一定级别的封装，然后，在类或者子类中都可以进行访问，但是在外部不可以\n",
    "    - 封装方法： 在成员名称前加一个下划线\n",
    "- 公开的\n",
    "    - 公共的封装实际对成员灭有任何操作，任何地方都可以访问。\n",
    "\n",
    "## 5.2 继承\n",
    "- 继承就是一个类可以获得另外一个类中的成员属性和成员方法\n",
    "- Is -- A 关系  子类是父类的一个子集\n",
    "- 作用：减少代码，增加代码的复用功能，同时可以设置类与类直接的关系\n",
    "- 继承与被继承的概念：\n",
    "    - 被继承的类叫父类，也叫基类或者超类\n",
    "    - 用于继承的类，叫子类，也叫派生类\n",
    "    "
   ]
  },
  {
   "cell_type": "code",
   "execution_count": 16,
   "metadata": {},
   "outputs": [
    {
     "name": "stdout",
     "output_type": "stream",
     "text": [
      "DO WORK!!\n"
     ]
    },
    {
     "data": {
      "text/plain": [
       "mappingproxy({'__module__': '__main__',\n",
       "              'name': None,\n",
       "              'age': 18,\n",
       "              'study': 'Python',\n",
       "              'DoWork': <function __main__.Python_Stu.DoWork(self)>,\n",
       "              '__dict__': <attribute '__dict__' of 'Python_Stu' objects>,\n",
       "              '__weakref__': <attribute '__weakref__' of 'Python_Stu' objects>,\n",
       "              '__doc__': None})"
      ]
     },
     "execution_count": 16,
     "metadata": {},
     "output_type": "execute_result"
    }
   ],
   "source": [
    "# 类的定义\n",
    "'''\n",
    "定义一个学生类\n",
    "'''\n",
    "# 定义一个空的类\n",
    "class Student():\n",
    "    pass\n",
    "\n",
    "#定义Student()类的一个对象\n",
    "xiaoming = Student()\n",
    "\n",
    "# 定义一个学python的学生类\n",
    "class Python_Stu():\n",
    "    #使用None给不确定的变量赋值\n",
    "    name = None\n",
    "    age = 18\n",
    "    study = \"Python\"\n",
    "\n",
    "    #系统默认为函数添加self参数\n",
    "    def DoWork(self):\n",
    "        print(\"DO WORK!!\")\n",
    "\n",
    "        #推荐在函数末尾使用return\n",
    "        return None\n",
    "\n",
    "\n",
    "# 类的实例化\n",
    "xiaohong = Python_Stu()\n",
    "xiaohong.name\n",
    "xiaohong.age\n",
    "xiaohong.DoWork()\n",
    "xiaohong.__dict__\n",
    "Python_Stu.__dict__"
   ]
  },
  {
   "cell_type": "code",
   "execution_count": 6,
   "metadata": {},
   "outputs": [
    {
     "name": "stdout",
     "output_type": "stream",
     "text": [
      "my name is xiaoliu\n",
      "my age is 17\n",
      "1\n",
      "xiaowang\n"
     ]
    }
   ],
   "source": [
    "class Teahcer():\n",
    "    name = 'xiaowang'\n",
    "    age = 18\n",
    "    def say(self):\n",
    "        self.name = \"xiaoliu\"\n",
    "        self.age = 17\n",
    "        print('my name is {0}'.format(self.name))\n",
    "        print('my age is {0}'.format(self.age))\n",
    "    def say1():\n",
    "        print(1)\n",
    "        #调用类的成员变量需要用__class__\n",
    "        print(__class__.name)\n",
    "t = Teahcer()\n",
    "t.say()\n",
    "Teahcer.say1()"
   ]
  },
  {
   "cell_type": "code",
   "execution_count": 10,
   "metadata": {},
   "outputs": [
    {
     "name": "stdout",
     "output_type": "stream",
     "text": [
      "xiaohong\n",
      "20\n",
      "xiaohong\n",
      "20\n",
      "xiaoming\n",
      "18\n",
      "xiaogang\n",
      "22\n"
     ]
    }
   ],
   "source": [
    "# 关于self的案例\n",
    "\n",
    "\n",
    "class A():\n",
    "    name = 'xiaoming'\n",
    "    age = 18\n",
    "    \n",
    "    #构造函数\n",
    "    def __init__(self):\n",
    "        self.name= 'xiaohong'\n",
    "        self.age = 20\n",
    "        \n",
    "    def say(self):\n",
    "        print(self.name)\n",
    "        print(self.age)\n",
    "class B():\n",
    "    name = 'xiaogang'\n",
    "    age = 22\n",
    "a = A()\n",
    "a.say()\n",
    "\n",
    "A.say(a)\n",
    "A.say(A)\n",
    "\n",
    "#鸭子模型\n",
    "A.say(B)"
   ]
  },
  {
   "cell_type": "code",
   "execution_count": 13,
   "metadata": {},
   "outputs": [
    {
     "name": "stdout",
     "output_type": "stream",
     "text": [
      "xiaoming\n"
     ]
    },
    {
     "ename": "AttributeError",
     "evalue": "'Person' object has no attribute '__age'",
     "output_type": "error",
     "traceback": [
      "\u001b[0;31m---------------------------------------------------------------------------\u001b[0m",
      "\u001b[0;31mAttributeError\u001b[0m                            Traceback (most recent call last)",
      "\u001b[0;32m<ipython-input-13-5ed0492b1f1a>\u001b[0m in \u001b[0;36m<module>\u001b[0;34m()\u001b[0m\n\u001b[1;32m      8\u001b[0m \u001b[0mp\u001b[0m \u001b[0;34m=\u001b[0m \u001b[0mPerson\u001b[0m\u001b[0;34m(\u001b[0m\u001b[0;34m)\u001b[0m\u001b[0;34m\u001b[0m\u001b[0m\n\u001b[1;32m      9\u001b[0m \u001b[0mprint\u001b[0m\u001b[0;34m(\u001b[0m\u001b[0mp\u001b[0m\u001b[0;34m.\u001b[0m\u001b[0mname\u001b[0m\u001b[0;34m)\u001b[0m\u001b[0;34m\u001b[0m\u001b[0m\n\u001b[0;32m---> 10\u001b[0;31m \u001b[0mprint\u001b[0m\u001b[0;34m(\u001b[0m\u001b[0mp\u001b[0m\u001b[0;34m.\u001b[0m\u001b[0m__age\u001b[0m\u001b[0;34m)\u001b[0m\u001b[0;34m\u001b[0m\u001b[0m\n\u001b[0m",
      "\u001b[0;31mAttributeError\u001b[0m: 'Person' object has no attribute '__age'"
     ]
    }
   ],
   "source": [
    "# 私有成员示例\n",
    "class Person():\n",
    "    #public\n",
    "    name = \"xiaoming\"\n",
    "\n",
    "    #private\n",
    "    __age = 18\n",
    "p = Person()\n",
    "print(p.name)\n",
    "print(p.__age)"
   ]
  },
  {
   "cell_type": "code",
   "execution_count": 15,
   "metadata": {},
   "outputs": [
    {
     "name": "stdout",
     "output_type": "stream",
     "text": [
      "22\n"
     ]
    }
   ],
   "source": [
    "p._Person__age= 22\n",
    "print(p.Person_age)"
   ]
  },
  {
   "cell_type": "code",
   "execution_count": null,
   "metadata": {},
   "outputs": [],
   "source": [
    "\n"
   ]
  },
  {
   "cell_type": "code",
   "execution_count": null,
   "metadata": {},
   "outputs": [],
   "source": [
    "\n"
   ]
  },
  {
   "cell_type": "code",
   "execution_count": null,
   "metadata": {},
   "outputs": [],
   "source": []
  }
 ],
 "metadata": {
  "kernelspec": {
   "display_name": "Python 3",
   "language": "python",
   "name": "python3"
  },
  "language_info": {
   "codemirror_mode": {
    "name": "ipython",
    "version": 3
   },
   "file_extension": ".py",
   "mimetype": "text/x-python",
   "name": "python",
   "nbconvert_exporter": "python",
   "pygments_lexer": "ipython3",
   "version": "3.7.0"
  }
 },
 "nbformat": 4,
 "nbformat_minor": 2
}
