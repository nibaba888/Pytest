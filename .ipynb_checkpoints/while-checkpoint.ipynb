{
 "cells": [
  {
   "cell_type": "markdown",
   "metadata": {},
   "source": [
    "# while循环\n",
    " - 表示当某条件成立的时候，执行循环\n",
    " - 不知道具体循环次数，当满足成立条件，就执行循环\n",
    " - 语法:\n",
    "         \n",
    "         while 条件表达式:\n",
    "         语句块\n",
    "         \n",
    "         \n",
    "         while 条件表达式：\n",
    "               语句块1\n",
    "         else:\n",
    "               语句块2\n",
    "         "
   ]
  },
  {
   "cell_type": "code",
   "execution_count": 2,
   "metadata": {},
   "outputs": [
    {
     "name": "stdout",
     "output_type": "stream",
     "text": [
      "第1年拿了10670.0钱\n",
      "第2年拿了11384.89钱\n",
      "第3年拿了12147.677629999998钱\n",
      "第4年拿了12961.572031209998钱\n",
      "第5年拿了13829.997357301068钱\n",
      "第6年拿了14756.607180240238钱\n",
      "第7年拿了15745.299861316334钱\n",
      "第8年拿了16800.23495202453钱\n",
      "第9年拿了17925.85069381017钱\n",
      "第10年拿了19126.88269029545钱\n",
      "第11年拿了20408.383830545245钱\n"
     ]
    }
   ],
   "source": [
    "#例子\n",
    "benqian = 10000\n",
    "year =0 \n",
    "while benqian<20000:\n",
    "    benqian *= 1.067\n",
    "    year += 1\n",
    "    print(\"第{0}年拿了{1}钱\".format(year,benqian))"
   ]
  },
  {
   "cell_type": "code",
   "execution_count": null,
   "metadata": {},
   "outputs": [],
   "source": []
  }
 ],
 "metadata": {
  "kernelspec": {
   "display_name": "Python 3",
   "language": "python",
   "name": "python3"
  },
  "language_info": {
   "codemirror_mode": {
    "name": "ipython",
    "version": 3
   },
   "file_extension": ".py",
   "mimetype": "text/x-python",
   "name": "python",
   "nbconvert_exporter": "python",
   "pygments_lexer": "ipython3",
   "version": "3.7.0"
  }
 },
 "nbformat": 4,
 "nbformat_minor": 2
}
